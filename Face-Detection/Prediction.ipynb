{
 "cells": [
  {
   "cell_type": "code",
   "execution_count": 2,
   "id": "a7750942",
   "metadata": {},
   "outputs": [
    {
     "name": "stderr",
     "output_type": "stream",
     "text": [
      "Using TensorFlow backend.\n"
     ]
    }
   ],
   "source": [
    "from keras.models import load_model\n",
    "import cv2\n",
    "import numpy as np"
   ]
  },
  {
   "cell_type": "markdown",
   "id": "4bdcd079",
   "metadata": {},
   "source": [
    "# Load the Model and Cascade Classifier"
   ]
  },
  {
   "cell_type": "code",
   "execution_count": 3,
   "id": "668791ad",
   "metadata": {},
   "outputs": [],
   "source": [
    "## https://stackoverflow.com/questions/30508922/error-215-empty-in-function-detectmultiscale\n",
    "model = load_model('Model_12.model')\n",
    "face_clsfr = cv2.CascadeClassifier(r'C:\\Users\\KIIT\\Tensorflow\\Face_mask_detection\\cascade\\haarcascade_frontalface_default.xml')\n",
    "source = cv2.VideoCapture(r'C:\\Users\\KIIT\\Tensorflow\\Face_mask_detection\\Demo\\mask.mp4')\n",
    "\n",
    "labels_dict = {0 : 'Mask', 1 : 'No Mask'}\n",
    "color_dict = {0 : (0,255,0), 1 : (0, 0, 255)}"
   ]
  },
  {
   "cell_type": "code",
   "execution_count": 4,
   "id": "cdefdeb1",
   "metadata": {},
   "outputs": [],
   "source": [
    "while(True):\n",
    "\n",
    "    ret, img = source.read()\n",
    "    grayMode_img = cv2.cvtColor(img,cv2.COLOR_BGR2GRAY)\n",
    "    faces = face_clsfr.detectMultiScale(grayMode_img) \n",
    "\n",
    "    for (x, y, w, h) in faces:\n",
    "        face_img = grayMode_img[y:y+h, x:x+w]              ## Extract Box which contains face  \n",
    "        resized_img = cv2.resize(face_img, (100, 100))     ## Resize to (100 X 100 Dimmension)\n",
    "        normalized = resized_img / (255.0)                 ## Normalize 100 X 100 Image\n",
    "        reshaped = np.reshape(normalized, (1, 100, 100, 1))## Reshape to (1 X 100 X 100 X 1) Dimmension, for the model\n",
    "        res = model.predict(reshaped)                      ## Model Prediction\n",
    "        label = np.argmax(res, axis=1)[0]                  ## Extract the Label from the model Prediction\n",
    "\n",
    "        cv2.rectangle(img,(x, y),(x + w, y + h), color_dict[label], 2)\n",
    "        cv2.rectangle(img,(x, y - 40),(x + w, y), color_dict[label], -1)\n",
    "        cv2.putText(img, labels_dict[label], (x, y - 10), cv2.FONT_HERSHEY_SIMPLEX, 0.8, (255,255,255), 2)\n",
    "        \n",
    "        ## Accuracy\n",
    "        accuracy = round(np.max(res, axis=1)[0]*100, 2)\n",
    "        cv2.putText(img, str(accuracy),(x + 150, y - 10), cv2.FONT_HERSHEY_SIMPLEX, 0.8, (255,255,255), 2)\n",
    "            \n",
    "    cv2.imshow('LIVE',img)\n",
    "    key = cv2.waitKey(1)\n",
    "    \n",
    "    ## Press Esc to Destroy the Window\n",
    "    if(key==27):\n",
    "        break\n",
    "        \n",
    "cv2.destroyAllWindows()\n",
    "source.release()"
   ]
  }
 ],
 "metadata": {
  "kernelspec": {
   "display_name": "Python 3 (ipykernel)",
   "language": "python",
   "name": "python3"
  },
  "language_info": {
   "codemirror_mode": {
    "name": "ipython",
    "version": 3
   },
   "file_extension": ".py",
   "mimetype": "text/x-python",
   "name": "python",
   "nbconvert_exporter": "python",
   "pygments_lexer": "ipython3",
   "version": "3.7.11"
  }
 },
 "nbformat": 4,
 "nbformat_minor": 5
}
