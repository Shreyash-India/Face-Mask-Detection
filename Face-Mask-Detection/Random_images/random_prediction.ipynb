{
 "cells": [
  {
   "cell_type": "code",
   "execution_count": 20,
   "id": "e5a6513a",
   "metadata": {},
   "outputs": [],
   "source": [
    "from keras.models import load_model\n",
    "import cv2, os\n",
    "import numpy as np"
   ]
  },
  {
   "cell_type": "markdown",
   "id": "af457ec5",
   "metadata": {},
   "source": [
    "Load Model"
   ]
  },
  {
   "cell_type": "code",
   "execution_count": 21,
   "id": "0859069d",
   "metadata": {},
   "outputs": [],
   "source": [
    "model = load_model(r'C:\\Users\\KIIT\\Tensorflow\\Face_mask_detection\\Model_12.model')"
   ]
  },
  {
   "cell_type": "code",
   "execution_count": 25,
   "id": "dfb5ad48",
   "metadata": {},
   "outputs": [],
   "source": [
    "labels_dict = {0 : 'Mask', 1 : 'No Mask'}\n",
    "\n",
    "def Predict(image):\n",
    "    dim = 100        # Dimmension (100 X100)\n",
    "    root = r\"C:\\Users\\KIIT\\Tensorflow\\Face_mask_detection\\Random_images\\mask\"\n",
    "    \n",
    "    img_path = os.path.join(root, image)\n",
    "    img = cv2.imread(img_path)\n",
    "\n",
    "    # 1: RGB -> Gray scale\n",
    "    # 2: Resize to (100 X 100) Dimmension\n",
    "    grayMode_img = cv2.cvtColor(img, cv2.COLOR_BGR2GRAY)\n",
    "    resized_img = cv2.resize(grayMode_img, (dim, dim))\n",
    "\n",
    "    normalized = resized_img / (255.0)\n",
    "    reshaped = np.reshape(normalized, (1, dim, dim, 1))\n",
    "    res = model.predict(reshaped)\n",
    "    label = np.argmax(res, axis=1)[0]\n",
    "    print('The Face has ', labels_dict[label])\n",
    "    return label"
   ]
  },
  {
   "cell_type": "markdown",
   "id": "5da09ee0",
   "metadata": {},
   "source": [
    "# Let's see How our Model Performs on the Random Faces who had Weared Mask which are unseen by our MODEL.."
   ]
  },
  {
   "cell_type": "code",
   "execution_count": 28,
   "id": "4a00505b",
   "metadata": {},
   "outputs": [
    {
     "name": "stdout",
     "output_type": "stream",
     "text": [
      "The Face has  No Mask\n",
      "The Face has  No Mask\n",
      "The Face has  No Mask\n",
      "The Face has  Mask\n",
      "The Face has  Mask\n",
      "The Face has  Mask\n",
      "The Face has  Mask\n",
      "Çorrect Prediction % 57.14285714285714\n"
     ]
    }
   ],
   "source": [
    "images = os.listdir(r'C:\\Users\\KIIT\\Tensorflow\\Face_mask_detection\\Random_images\\mask')\n",
    "correct_pred = 0\n",
    "for img in images:\n",
    "    if Predict(img) == 0:\n",
    "        correct_pred += 1\n",
    "print('Çorrect Prediction %', correct_pred/len(images)*100)"
   ]
  },
  {
   "cell_type": "markdown",
   "id": "b2a821ad",
   "metadata": {},
   "source": [
    "# Let's see How our Model Performs on the Random Faces who had not Weared Mask which are unseen by our MODEL.."
   ]
  },
  {
   "cell_type": "code",
   "execution_count": 29,
   "id": "dd858fda",
   "metadata": {},
   "outputs": [
    {
     "name": "stdout",
     "output_type": "stream",
     "text": [
      "ERROR! Session/line number was not unique in database. History logging moved to new session 147\n"
     ]
    }
   ],
   "source": [
    "labels_dict = {0 : 'Mask', 1 : 'No Mask'}\n",
    "\n",
    "def Predict(image):\n",
    "    dim = 100        # Dimmension (100 X100)\n",
    "    root = r\"C:\\Users\\KIIT\\Tensorflow\\Face_mask_detection\\Random_images\\non_mask\"\n",
    "    \n",
    "    img_path = os.path.join(root, image)\n",
    "    img = cv2.imread(img_path)\n",
    "\n",
    "    # 1: RGB -> Gray scale\n",
    "    # 2: Resize to (100 X 100) Dimmension\n",
    "    grayMode_img = cv2.cvtColor(img, cv2.COLOR_BGR2GRAY)\n",
    "    resized_img = cv2.resize(grayMode_img, (dim, dim))\n",
    "\n",
    "    normalized = resized_img / (255.0)\n",
    "    reshaped = np.reshape(normalized, (1, dim, dim, 1))\n",
    "    res = model.predict(reshaped)\n",
    "    label = np.argmax(res, axis=1)[0]\n",
    "    print('The Face has ', labels_dict[label])\n",
    "    return label"
   ]
  },
  {
   "cell_type": "code",
   "execution_count": 31,
   "id": "a09a5804",
   "metadata": {},
   "outputs": [
    {
     "name": "stdout",
     "output_type": "stream",
     "text": [
      "The Face has  No Mask\n",
      "The Face has  No Mask\n",
      "The Face has  No Mask\n",
      "The Face has  No Mask\n",
      "Çorrect Prediction % 100.0\n"
     ]
    }
   ],
   "source": [
    "images = os.listdir(r'C:\\Users\\KIIT\\Tensorflow\\Face_mask_detection\\Random_images\\non_mask')\n",
    "correct_pred = 0\n",
    "for img in images:\n",
    "    if Predict(img) == 1:\n",
    "        correct_pred += 1\n",
    "print('Çorrect Prediction %', correct_pred/len(images)*100)"
   ]
  }
 ],
 "metadata": {
  "kernelspec": {
   "display_name": "Python 3 (ipykernel)",
   "language": "python",
   "name": "python3"
  },
  "language_info": {
   "codemirror_mode": {
    "name": "ipython",
    "version": 3
   },
   "file_extension": ".py",
   "mimetype": "text/x-python",
   "name": "python",
   "nbconvert_exporter": "python",
   "pygments_lexer": "ipython3",
   "version": "3.7.11"
  }
 },
 "nbformat": 4,
 "nbformat_minor": 5
}
