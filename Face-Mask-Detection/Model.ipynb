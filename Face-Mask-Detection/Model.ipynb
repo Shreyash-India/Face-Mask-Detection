{
 "cells": [
  {
   "cell_type": "markdown",
   "id": "4f162245",
   "metadata": {},
   "source": [
    "MODEL"
   ]
  },
  {
   "cell_type": "code",
   "execution_count": 1,
   "id": "476b54a6",
   "metadata": {},
   "outputs": [],
   "source": [
    "import numpy as np\n",
    "import os\n",
    "\n",
    "root = r'C:\\Users\\KIIT\\Tensorflow\\Face_mask_detection'\n",
    "data_path = os.path.join(root, 'Data.npy')\n",
    "label_path = os.path.join(root, 'Labels.npy')\n",
    "\n",
    "# Load Data and Lables\n",
    "data = np.load(data_path)\n",
    "labels = np.load(label_path)"
   ]
  },
  {
   "cell_type": "markdown",
   "id": "b2b2786f",
   "metadata": {},
   "source": [
    "Build Model"
   ]
  },
  {
   "cell_type": "code",
   "execution_count": 2,
   "id": "bb23cfe7",
   "metadata": {},
   "outputs": [
    {
     "name": "stderr",
     "output_type": "stream",
     "text": [
      "Using TensorFlow backend.\n"
     ]
    }
   ],
   "source": [
    "# https://stackoverflow.com/questions/44131295/keras-cannot-import-name-conv2d\n",
    "from keras.models import Sequential\n",
    "from keras.layers import Dense, Activation, Flatten, Dropout\n",
    "from keras.layers.convolutional import Conv2D, MaxPooling2D\n",
    "from keras.callbacks import ModelCheckpoint"
   ]
  },
  {
   "cell_type": "code",
   "execution_count": 3,
   "id": "c9cb5661",
   "metadata": {},
   "outputs": [],
   "source": [
    "model = Sequential()\n",
    "\n",
    "model.add(Conv2D(256, (5,5), padding='same', input_shape = data.shape[1:]))\n",
    "model.add(Activation('relu'))\n",
    "model.add(MaxPooling2D(pool_size = (2, 2)))\n",
    "\n",
    "model.add(Conv2D(128, (3,3)))\n",
    "model.add(Activation('relu'))\n",
    "model.add(MaxPooling2D(pool_size = (2, 2)))\n",
    "\n",
    "model.add(Conv2D(64, (3,3)))\n",
    "model.add(Activation('relu'))\n",
    "model.add(MaxPooling2D(pool_size = (2, 2)))\n",
    "\n",
    "model.add(Flatten())\n",
    "model.add(Dropout(0.5))\n",
    "\n",
    "model.add(Dense(32, activation = 'relu'))\n",
    "model.add(Dense(2, activation = 'softmax'))\n",
    "\n",
    "model.compile(loss='categorical_crossentropy', optimizer='adam', metrics=['accuracy'])"
   ]
  },
  {
   "cell_type": "code",
   "execution_count": 4,
   "id": "230bedbe",
   "metadata": {},
   "outputs": [
    {
     "name": "stdout",
     "output_type": "stream",
     "text": [
      "Model: \"sequential_1\"\n",
      "_________________________________________________________________\n",
      "Layer (type)                 Output Shape              Param #   \n",
      "=================================================================\n",
      "conv2d_1 (Conv2D)            (None, 100, 100, 256)     6656      \n",
      "_________________________________________________________________\n",
      "activation_1 (Activation)    (None, 100, 100, 256)     0         \n",
      "_________________________________________________________________\n",
      "max_pooling2d_1 (MaxPooling2 (None, 50, 50, 256)       0         \n",
      "_________________________________________________________________\n",
      "conv2d_2 (Conv2D)            (None, 48, 48, 128)       295040    \n",
      "_________________________________________________________________\n",
      "activation_2 (Activation)    (None, 48, 48, 128)       0         \n",
      "_________________________________________________________________\n",
      "max_pooling2d_2 (MaxPooling2 (None, 24, 24, 128)       0         \n",
      "_________________________________________________________________\n",
      "conv2d_3 (Conv2D)            (None, 22, 22, 64)        73792     \n",
      "_________________________________________________________________\n",
      "activation_3 (Activation)    (None, 22, 22, 64)        0         \n",
      "_________________________________________________________________\n",
      "max_pooling2d_3 (MaxPooling2 (None, 11, 11, 64)        0         \n",
      "_________________________________________________________________\n",
      "flatten_1 (Flatten)          (None, 7744)              0         \n",
      "_________________________________________________________________\n",
      "dropout_1 (Dropout)          (None, 7744)              0         \n",
      "_________________________________________________________________\n",
      "dense_1 (Dense)              (None, 32)                247840    \n",
      "_________________________________________________________________\n",
      "dense_2 (Dense)              (None, 2)                 66        \n",
      "=================================================================\n",
      "Total params: 623,394\n",
      "Trainable params: 623,394\n",
      "Non-trainable params: 0\n",
      "_________________________________________________________________\n"
     ]
    }
   ],
   "source": [
    "model.summary()"
   ]
  },
  {
   "cell_type": "code",
   "execution_count": 15,
   "id": "e6735d91",
   "metadata": {},
   "outputs": [
    {
     "name": "stdout",
     "output_type": "stream",
     "text": [
      "Training Data Shape (6797, 100, 100, 1)\n",
      "Testing Data Shape (756, 100, 100, 1)\n",
      "Training Labels Shape (6797, 2)\n",
      "Testing Labels Shape (756, 2)\n"
     ]
    }
   ],
   "source": [
    "from sklearn.model_selection import train_test_split\n",
    "train_data, test_data, train_labels, test_labels = train_test_split(data, labels, train_size = 0.9)\n",
    "\n",
    "## size of Data points\n",
    "print('Training Data Shape', train_data.shape)\n",
    "print('Testing Data Shape',test_data.shape)\n",
    "\n",
    "## size of Labels\n",
    "print('Training Labels Shape',train_labels.shape)\n",
    "print('Testing Labels Shape',test_labels.shape)"
   ]
  },
  {
   "cell_type": "code",
   "execution_count": 16,
   "id": "29aed2af",
   "metadata": {},
   "outputs": [
    {
     "name": "stdout",
     "output_type": "stream",
     "text": [
      "Train on 5437 samples, validate on 1360 samples\n",
      "Epoch 1/20\n",
      "ERROR! Session/line number was not unique in database. History logging moved to new session 127\n",
      "5437/5437 [==============================] - 409s 75ms/step - loss: 0.6554 - accuracy: 0.6070 - val_loss: 0.5935 - val_accuracy: 0.6566\n",
      "\n",
      "Epoch 00001: val_loss improved from inf to 0.59353, saving model to Model_01.model\n",
      "Epoch 2/20\n",
      "5437/5437 [==============================] - 390s 72ms/step - loss: 0.5219 - accuracy: 0.7420 - val_loss: 0.3969 - val_accuracy: 0.8346\n",
      "\n",
      "Epoch 00002: val_loss improved from 0.59353 to 0.39690, saving model to Model_02.model\n",
      "Epoch 3/20\n",
      "5437/5437 [==============================] - 384s 71ms/step - loss: 0.4070 - accuracy: 0.8106 - val_loss: 0.4031 - val_accuracy: 0.8132\n",
      "\n",
      "Epoch 00003: val_loss did not improve from 0.39690\n",
      "Epoch 4/20\n",
      "5437/5437 [==============================] - 376s 69ms/step - loss: 0.3643 - accuracy: 0.8304 - val_loss: 0.3263 - val_accuracy: 0.8596\n",
      "\n",
      "Epoch 00004: val_loss improved from 0.39690 to 0.32628, saving model to Model_04.model\n",
      "Epoch 5/20\n",
      "5437/5437 [==============================] - 362s 67ms/step - loss: 0.3263 - accuracy: 0.8534 - val_loss: 0.3228 - val_accuracy: 0.8625\n",
      "\n",
      "Epoch 00005: val_loss improved from 0.32628 to 0.32283, saving model to Model_05.model\n",
      "Epoch 6/20\n",
      "5437/5437 [==============================] - 361s 66ms/step - loss: 0.2840 - accuracy: 0.8733 - val_loss: 0.2849 - val_accuracy: 0.8801\n",
      "\n",
      "Epoch 00006: val_loss improved from 0.32283 to 0.28488, saving model to Model_06.model\n",
      "Epoch 7/20\n",
      "5437/5437 [==============================] - 359s 66ms/step - loss: 0.2692 - accuracy: 0.8856 - val_loss: 0.2697 - val_accuracy: 0.8912\n",
      "\n",
      "Epoch 00007: val_loss improved from 0.28488 to 0.26966, saving model to Model_07.model\n",
      "Epoch 8/20\n",
      "5437/5437 [==============================] - 360s 66ms/step - loss: 0.2442 - accuracy: 0.8987 - val_loss: 0.2668 - val_accuracy: 0.8882\n",
      "\n",
      "Epoch 00008: val_loss improved from 0.26966 to 0.26677, saving model to Model_08.model\n",
      "Epoch 9/20\n",
      "5437/5437 [==============================] - 358s 66ms/step - loss: 0.2298 - accuracy: 0.9066 - val_loss: 0.2946 - val_accuracy: 0.8838\n",
      "\n",
      "Epoch 00009: val_loss did not improve from 0.26677\n",
      "Epoch 10/20\n",
      "5437/5437 [==============================] - 360s 66ms/step - loss: 0.2145 - accuracy: 0.9102 - val_loss: 0.2664 - val_accuracy: 0.8949\n",
      "\n",
      "Epoch 00010: val_loss improved from 0.26677 to 0.26641, saving model to Model_10.model\n",
      "Epoch 11/20\n",
      "5437/5437 [==============================] - 375s 69ms/step - loss: 0.1859 - accuracy: 0.9226 - val_loss: 0.2895 - val_accuracy: 0.8971\n",
      "\n",
      "Epoch 00011: val_loss did not improve from 0.26641\n",
      "Epoch 12/20\n",
      "5437/5437 [==============================] - 359s 66ms/step - loss: 0.1809 - accuracy: 0.9299 - val_loss: 0.2379 - val_accuracy: 0.9184\n",
      "\n",
      "Epoch 00012: val_loss improved from 0.26641 to 0.23788, saving model to Model_12.model\n",
      "Epoch 13/20\n",
      "5437/5437 [==============================] - 358s 66ms/step - loss: 0.1688 - accuracy: 0.9331 - val_loss: 0.2554 - val_accuracy: 0.9125\n",
      "\n",
      "Epoch 00013: val_loss did not improve from 0.23788\n",
      "Epoch 14/20\n",
      "5437/5437 [==============================] - 357s 66ms/step - loss: 0.1463 - accuracy: 0.9406 - val_loss: 0.2622 - val_accuracy: 0.9103\n",
      "\n",
      "Epoch 00014: val_loss did not improve from 0.23788\n",
      "Epoch 15/20\n",
      "5437/5437 [==============================] - 359s 66ms/step - loss: 0.1290 - accuracy: 0.9505 - val_loss: 0.2936 - val_accuracy: 0.9022\n",
      "\n",
      "Epoch 00015: val_loss did not improve from 0.23788\n",
      "Epoch 16/20\n",
      "5437/5437 [==============================] - 384s 71ms/step - loss: 0.1277 - accuracy: 0.9467 - val_loss: 0.2604 - val_accuracy: 0.9140\n",
      "\n",
      "Epoch 00016: val_loss did not improve from 0.23788\n",
      "Epoch 17/20\n",
      "5437/5437 [==============================] - 388s 71ms/step - loss: 0.1223 - accuracy: 0.9537 - val_loss: 0.2749 - val_accuracy: 0.9103\n",
      "\n",
      "Epoch 00017: val_loss did not improve from 0.23788\n",
      "Epoch 18/20\n",
      "5437/5437 [==============================] - 345s 63ms/step - loss: 0.1056 - accuracy: 0.9608 - val_loss: 0.3048 - val_accuracy: 0.9088\n",
      "\n",
      "Epoch 00018: val_loss did not improve from 0.23788\n",
      "Epoch 19/20\n",
      "5437/5437 [==============================] - 296s 54ms/step - loss: 0.0954 - accuracy: 0.9641 - val_loss: 0.2813 - val_accuracy: 0.9110\n",
      "\n",
      "Epoch 00019: val_loss did not improve from 0.23788\n",
      "Epoch 20/20\n",
      "5437/5437 [==============================] - 357s 66ms/step - loss: 0.0916 - accuracy: 0.9684 - val_loss: 0.3330 - val_accuracy: 0.9096\n",
      "\n",
      "Epoch 00020: val_loss did not improve from 0.23788\n"
     ]
    }
   ],
   "source": [
    "## https://machinelearningmastery.com/evaluate-performance-deep-learning-models-keras/\n",
    "## https://stackoverflow.com/questions/47902295/what-is-the-use-of-verbose-in-keras-while-validating-the-model\n",
    "## https://keras.io/api/callbacks/model_checkpoint/\n",
    "checkpoint = ModelCheckpoint('Model_{epoch:02d}.model', monitor='val_loss', verbose=2, save_best_only = True, mode='auto')\n",
    "history = model.fit(train_data, train_labels, epochs=20, callbacks=[checkpoint], validation_split = 0.2)"
   ]
  },
  {
   "cell_type": "markdown",
   "id": "7eab295d",
   "metadata": {},
   "source": [
    "Training Loss vs Validation Loss"
   ]
  },
  {
   "cell_type": "code",
   "execution_count": 18,
   "id": "74753d48",
   "metadata": {},
   "outputs": [
    {
     "data": {
      "image/png": "[encoded data removed]",
      "text/plain": [
       "<Figure size 432x288 with 1 Axes>"
      ]
     },
     "metadata": {
      "needs_background": "light"
     },
     "output_type": "display_data"
    }
   ],
   "source": [
    "from matplotlib import pyplot as plt\n",
    "plt.plot(history.history['loss'], 'r', label='Training Loss')\n",
    "plt.plot(history.history['val_loss'], 'y', label='Validation Loss')\n",
    "plt.xlabel('No of Epochs')\n",
    "plt.ylabel('Loss')\n",
    "plt.legend()\n",
    "plt.show()"
   ]
  },
  {
   "cell_type": "markdown",
   "id": "203b0684",
   "metadata": {},
   "source": [
    "Training Accuracy vs Validation Accuracy"
   ]
  },
  {
   "cell_type": "code",
   "execution_count": 19,
   "id": "7c06c78e",
   "metadata": {},
   "outputs": [
    {
     "data": {
      "image/png": "[encoded data removed]",
      "text/plain": [
       "<Figure size 432x288 with 1 Axes>"
      ]
     },
     "metadata": {
      "needs_background": "light"
     },
     "output_type": "display_data"
    }
   ],
   "source": [
    "from matplotlib import pyplot as plt\n",
    "plt.plot(history.history['accuracy'], 'r', label='Training accuracy')\n",
    "plt.plot(history.history['val_accuracy'], 'y', label='Validation accuracy')\n",
    "plt.xlabel('No of Epochs')\n",
    "plt.ylabel('Loss')\n",
    "plt.legend()\n",
    "plt.show()"
   ]
  },
  {
   "cell_type": "markdown",
   "id": "d0defb39",
   "metadata": {},
   "source": [
    "Model Performance"
   ]
  },
  {
   "cell_type": "code",
   "execution_count": 20,
   "id": "d3a9058a",
   "metadata": {},
   "outputs": [
    {
     "name": "stdout",
     "output_type": "stream",
     "text": [
      "756/756 [==============================] - 13s 17ms/step\n",
      "[0.3565999528087636, 0.8928571343421936]\n"
     ]
    }
   ],
   "source": [
    "print(model.evaluate(test_data, test_labels))"
   ]
  }
 ],
 "metadata": {
  "kernelspec": {
   "display_name": "Python 3 (ipykernel)",
   "language": "python",
   "name": "python3"
  },
  "language_info": {
   "codemirror_mode": {
    "name": "ipython",
    "version": 3
   },
   "file_extension": ".py",
   "mimetype": "text/x-python",
   "name": "python",
   "nbconvert_exporter": "python",
   "pygments_lexer": "ipython3",
   "version": "3.7.11"
  }
 },
 "nbformat": 4,
 "nbformat_minor": 5
}
